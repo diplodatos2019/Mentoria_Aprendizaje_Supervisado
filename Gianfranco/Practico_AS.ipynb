{
 "cells": [
  {
   "cell_type": "markdown",
   "metadata": {},
   "source": [
    "# Practico Mentoria - Aprendizaje Supervisado\n",
    "\n",
    "Vamos a tratar de predecir el resultado de un partido para el equipo local, es decir, si el equipo local gana (**Win**), empata (**Draw**) o pierde (**Lose**)."
   ]
  },
  {
   "cell_type": "markdown",
   "metadata": {},
   "source": [
    "---"
   ]
  },
  {
   "cell_type": "markdown",
   "metadata": {},
   "source": [
    "### Importaciones"
   ]
  },
  {
   "cell_type": "code",
   "execution_count": 1,
   "metadata": {},
   "outputs": [],
   "source": [
    "%load_ext autoreload\n",
    "%autoreload 2\n",
    "\n",
    "%matplotlib inline"
   ]
  },
  {
   "cell_type": "code",
   "execution_count": 47,
   "metadata": {},
   "outputs": [],
   "source": [
    "import numpy as np\n",
    "import pandas as pd\n",
    "import matplotlib.pyplot as plt\n",
    "import seaborn as sns\n",
    "import scipy as sp\n",
    "import warnings\n",
    "\n",
    "from sklearn.model_selection import train_test_split, GridSearchCV\n",
    "from sklearn.ensemble import RandomForestClassifier, AdaBoostClassifier\n",
    "from sklearn.neighbors import KNeighborsClassifier\n",
    "from sklearn.linear_model import LogisticRegression\n",
    "from sklearn.decomposition import PCA\n",
    "from sklearn.pipeline import Pipeline\n",
    "from sklearn.metrics import accuracy_score, mean_squared_error, confusion_matrix, balanced_accuracy_score\n",
    "from sklearn import preprocessing\n",
    "\n",
    "from utils import plot_confusion_matrix"
   ]
  },
  {
   "cell_type": "code",
   "execution_count": null,
   "metadata": {},
   "outputs": [],
   "source": [
    "warnings.filterwarnings('ignore')\n",
    "\n",
    "sns.set_style(\"whitegrid\")"
   ]
  },
  {
   "cell_type": "code",
   "execution_count": null,
   "metadata": {},
   "outputs": [],
   "source": [
    "# Seteamos una semilla para Reproducibilidad\n",
    "np.random.seed(1)"
   ]
  },
  {
   "cell_type": "markdown",
   "metadata": {},
   "source": [
    "---"
   ]
  },
  {
   "cell_type": "markdown",
   "metadata": {},
   "source": [
    "### Carga del Dateset"
   ]
  },
  {
   "cell_type": "code",
   "execution_count": 4,
   "metadata": {},
   "outputs": [
    {
     "name": "stdout",
     "output_type": "stream",
     "text": [
      "Shape 'data_df'  = (322, 37)\n"
     ]
    }
   ],
   "source": [
    "data_df = pd.read_csv('../Datasets/football_data.csv')\n",
    "\n",
    "print(\"Shape 'data_df'  = {}\".format(data_df.shape))"
   ]
  },
  {
   "cell_type": "code",
   "execution_count": 5,
   "metadata": {},
   "outputs": [
    {
     "data": {
      "text/html": [
       "<div>\n",
       "<style scoped>\n",
       "    .dataframe tbody tr th:only-of-type {\n",
       "        vertical-align: middle;\n",
       "    }\n",
       "\n",
       "    .dataframe tbody tr th {\n",
       "        vertical-align: top;\n",
       "    }\n",
       "\n",
       "    .dataframe thead th {\n",
       "        text-align: right;\n",
       "    }\n",
       "</style>\n",
       "<table border=\"1\" class=\"dataframe\">\n",
       "  <thead>\n",
       "    <tr style=\"text-align: right;\">\n",
       "      <th></th>\n",
       "      <th>home_team_goals_difference</th>\n",
       "      <th>away_team_goals_difference</th>\n",
       "      <th>games_won_home_team</th>\n",
       "      <th>games_won_away_team</th>\n",
       "      <th>games_against_won</th>\n",
       "      <th>games_against_lost</th>\n",
       "      <th>League_21518</th>\n",
       "      <th>League_24558</th>\n",
       "      <th>home_player_1_overall_rating</th>\n",
       "      <th>home_player_2_overall_rating</th>\n",
       "      <th>...</th>\n",
       "      <th>away_player_9_overall_rating</th>\n",
       "      <th>away_player_10_overall_rating</th>\n",
       "      <th>away_player_11_overall_rating</th>\n",
       "      <th>B365_Win</th>\n",
       "      <th>B365_Draw</th>\n",
       "      <th>B365_Lose</th>\n",
       "      <th>BW_Win</th>\n",
       "      <th>BW_Draw</th>\n",
       "      <th>BW_Lose</th>\n",
       "      <th>label</th>\n",
       "    </tr>\n",
       "  </thead>\n",
       "  <tbody>\n",
       "    <tr>\n",
       "      <th>0</th>\n",
       "      <td>-5</td>\n",
       "      <td>-8</td>\n",
       "      <td>2</td>\n",
       "      <td>1</td>\n",
       "      <td>0</td>\n",
       "      <td>0</td>\n",
       "      <td>1</td>\n",
       "      <td>0</td>\n",
       "      <td>77.0</td>\n",
       "      <td>69.0</td>\n",
       "      <td>...</td>\n",
       "      <td>71.0</td>\n",
       "      <td>73.0</td>\n",
       "      <td>73.0</td>\n",
       "      <td>0.395683</td>\n",
       "      <td>0.287770</td>\n",
       "      <td>0.316547</td>\n",
       "      <td>0.389704</td>\n",
       "      <td>0.287782</td>\n",
       "      <td>0.322514</td>\n",
       "      <td>Draw</td>\n",
       "    </tr>\n",
       "    <tr>\n",
       "      <th>1</th>\n",
       "      <td>4</td>\n",
       "      <td>-2</td>\n",
       "      <td>4</td>\n",
       "      <td>1</td>\n",
       "      <td>0</td>\n",
       "      <td>0</td>\n",
       "      <td>1</td>\n",
       "      <td>0</td>\n",
       "      <td>76.0</td>\n",
       "      <td>79.0</td>\n",
       "      <td>...</td>\n",
       "      <td>76.0</td>\n",
       "      <td>71.0</td>\n",
       "      <td>72.0</td>\n",
       "      <td>0.624582</td>\n",
       "      <td>0.238903</td>\n",
       "      <td>0.136516</td>\n",
       "      <td>0.612713</td>\n",
       "      <td>0.253365</td>\n",
       "      <td>0.133922</td>\n",
       "      <td>Draw</td>\n",
       "    </tr>\n",
       "    <tr>\n",
       "      <th>2</th>\n",
       "      <td>18</td>\n",
       "      <td>7</td>\n",
       "      <td>6</td>\n",
       "      <td>6</td>\n",
       "      <td>0</td>\n",
       "      <td>0</td>\n",
       "      <td>1</td>\n",
       "      <td>0</td>\n",
       "      <td>81.0</td>\n",
       "      <td>81.0</td>\n",
       "      <td>...</td>\n",
       "      <td>78.0</td>\n",
       "      <td>90.0</td>\n",
       "      <td>88.0</td>\n",
       "      <td>0.390698</td>\n",
       "      <td>0.260465</td>\n",
       "      <td>0.348837</td>\n",
       "      <td>0.380496</td>\n",
       "      <td>0.279776</td>\n",
       "      <td>0.339728</td>\n",
       "      <td>Lose</td>\n",
       "    </tr>\n",
       "    <tr>\n",
       "      <th>3</th>\n",
       "      <td>1</td>\n",
       "      <td>1</td>\n",
       "      <td>2</td>\n",
       "      <td>3</td>\n",
       "      <td>0</td>\n",
       "      <td>0</td>\n",
       "      <td>1</td>\n",
       "      <td>0</td>\n",
       "      <td>79.0</td>\n",
       "      <td>65.0</td>\n",
       "      <td>...</td>\n",
       "      <td>81.0</td>\n",
       "      <td>81.0</td>\n",
       "      <td>79.0</td>\n",
       "      <td>0.360875</td>\n",
       "      <td>0.287606</td>\n",
       "      <td>0.351519</td>\n",
       "      <td>0.354839</td>\n",
       "      <td>0.290323</td>\n",
       "      <td>0.354839</td>\n",
       "      <td>Win</td>\n",
       "    </tr>\n",
       "    <tr>\n",
       "      <th>4</th>\n",
       "      <td>1</td>\n",
       "      <td>1</td>\n",
       "      <td>3</td>\n",
       "      <td>1</td>\n",
       "      <td>0</td>\n",
       "      <td>0</td>\n",
       "      <td>1</td>\n",
       "      <td>0</td>\n",
       "      <td>74.0</td>\n",
       "      <td>73.0</td>\n",
       "      <td>...</td>\n",
       "      <td>67.0</td>\n",
       "      <td>76.0</td>\n",
       "      <td>76.0</td>\n",
       "      <td>0.651526</td>\n",
       "      <td>0.223380</td>\n",
       "      <td>0.125093</td>\n",
       "      <td>0.634855</td>\n",
       "      <td>0.224066</td>\n",
       "      <td>0.141079</td>\n",
       "      <td>Draw</td>\n",
       "    </tr>\n",
       "  </tbody>\n",
       "</table>\n",
       "<p>5 rows × 37 columns</p>\n",
       "</div>"
      ],
      "text/plain": [
       "   home_team_goals_difference  away_team_goals_difference  \\\n",
       "0                          -5                          -8   \n",
       "1                           4                          -2   \n",
       "2                          18                           7   \n",
       "3                           1                           1   \n",
       "4                           1                           1   \n",
       "\n",
       "   games_won_home_team  games_won_away_team  games_against_won  \\\n",
       "0                    2                    1                  0   \n",
       "1                    4                    1                  0   \n",
       "2                    6                    6                  0   \n",
       "3                    2                    3                  0   \n",
       "4                    3                    1                  0   \n",
       "\n",
       "   games_against_lost  League_21518  League_24558  \\\n",
       "0                   0             1             0   \n",
       "1                   0             1             0   \n",
       "2                   0             1             0   \n",
       "3                   0             1             0   \n",
       "4                   0             1             0   \n",
       "\n",
       "   home_player_1_overall_rating  home_player_2_overall_rating  ...  \\\n",
       "0                          77.0                          69.0  ...   \n",
       "1                          76.0                          79.0  ...   \n",
       "2                          81.0                          81.0  ...   \n",
       "3                          79.0                          65.0  ...   \n",
       "4                          74.0                          73.0  ...   \n",
       "\n",
       "   away_player_9_overall_rating  away_player_10_overall_rating  \\\n",
       "0                          71.0                           73.0   \n",
       "1                          76.0                           71.0   \n",
       "2                          78.0                           90.0   \n",
       "3                          81.0                           81.0   \n",
       "4                          67.0                           76.0   \n",
       "\n",
       "   away_player_11_overall_rating  B365_Win  B365_Draw  B365_Lose    BW_Win  \\\n",
       "0                           73.0  0.395683   0.287770   0.316547  0.389704   \n",
       "1                           72.0  0.624582   0.238903   0.136516  0.612713   \n",
       "2                           88.0  0.390698   0.260465   0.348837  0.380496   \n",
       "3                           79.0  0.360875   0.287606   0.351519  0.354839   \n",
       "4                           76.0  0.651526   0.223380   0.125093  0.634855   \n",
       "\n",
       "    BW_Draw   BW_Lose  label  \n",
       "0  0.287782  0.322514   Draw  \n",
       "1  0.253365  0.133922   Draw  \n",
       "2  0.279776  0.339728   Lose  \n",
       "3  0.290323  0.354839    Win  \n",
       "4  0.224066  0.141079   Draw  \n",
       "\n",
       "[5 rows x 37 columns]"
      ]
     },
     "execution_count": 5,
     "metadata": {},
     "output_type": "execute_result"
    }
   ],
   "source": [
    "data_df.head()"
   ]
  },
  {
   "cell_type": "code",
   "execution_count": 6,
   "metadata": {},
   "outputs": [
    {
     "data": {
      "text/plain": [
       "home_team_goals_difference         int64\n",
       "away_team_goals_difference         int64\n",
       "games_won_home_team                int64\n",
       "games_won_away_team                int64\n",
       "games_against_won                  int64\n",
       "games_against_lost                 int64\n",
       "League_21518                       int64\n",
       "League_24558                       int64\n",
       "home_player_1_overall_rating     float64\n",
       "home_player_2_overall_rating     float64\n",
       "home_player_3_overall_rating     float64\n",
       "home_player_4_overall_rating     float64\n",
       "home_player_5_overall_rating     float64\n",
       "home_player_6_overall_rating     float64\n",
       "home_player_7_overall_rating     float64\n",
       "home_player_8_overall_rating     float64\n",
       "home_player_9_overall_rating     float64\n",
       "home_player_10_overall_rating    float64\n",
       "home_player_11_overall_rating    float64\n",
       "away_player_1_overall_rating     float64\n",
       "away_player_2_overall_rating     float64\n",
       "away_player_3_overall_rating     float64\n",
       "away_player_4_overall_rating     float64\n",
       "away_player_5_overall_rating     float64\n",
       "away_player_6_overall_rating     float64\n",
       "away_player_7_overall_rating     float64\n",
       "away_player_8_overall_rating     float64\n",
       "away_player_9_overall_rating     float64\n",
       "away_player_10_overall_rating    float64\n",
       "away_player_11_overall_rating    float64\n",
       "B365_Win                         float64\n",
       "B365_Draw                        float64\n",
       "B365_Lose                        float64\n",
       "BW_Win                           float64\n",
       "BW_Draw                          float64\n",
       "BW_Lose                          float64\n",
       "label                             object\n",
       "dtype: object"
      ]
     },
     "execution_count": 6,
     "metadata": {},
     "output_type": "execute_result"
    }
   ],
   "source": [
    "data_df.dtypes"
   ]
  },
  {
   "cell_type": "markdown",
   "metadata": {},
   "source": [
    "### Obtemos el `input` y el `target` para los modelos"
   ]
  },
  {
   "cell_type": "markdown",
   "metadata": {},
   "source": [
    "> Obtenemos el `target`"
   ]
  },
  {
   "cell_type": "code",
   "execution_count": 7,
   "metadata": {},
   "outputs": [],
   "source": [
    "target_data = data_df.loc[:, 'label']"
   ]
  },
  {
   "cell_type": "code",
   "execution_count": 8,
   "metadata": {},
   "outputs": [
    {
     "name": "stdout",
     "output_type": "stream",
     "text": [
      "Shape 'target_data' = (322,)\n"
     ]
    },
    {
     "data": {
      "text/plain": [
       "0    Draw\n",
       "1    Draw\n",
       "2    Lose\n",
       "3     Win\n",
       "4    Draw\n",
       "Name: label, dtype: object"
      ]
     },
     "metadata": {},
     "output_type": "display_data"
    },
    {
     "name": "stdout",
     "output_type": "stream",
     "text": [
      "==============================\n"
     ]
    },
    {
     "data": {
      "text/plain": [
       "dtype('O')"
      ]
     },
     "metadata": {},
     "output_type": "display_data"
    }
   ],
   "source": [
    "print(\"Shape 'target_data' = {}\".format(target_data.shape))\n",
    "display(target_data.head())\n",
    "print('=' * 30)\n",
    "display(target_data.dtypes)"
   ]
  },
  {
   "cell_type": "code",
   "execution_count": 9,
   "metadata": {},
   "outputs": [
    {
     "data": {
      "text/plain": [
       "array(['Draw', 'Lose', 'Win'], dtype=object)"
      ]
     },
     "execution_count": 9,
     "metadata": {},
     "output_type": "execute_result"
    }
   ],
   "source": [
    "target_data.unique()"
   ]
  },
  {
   "cell_type": "code",
   "execution_count": 10,
   "metadata": {
    "scrolled": true
   },
   "outputs": [
    {
     "data": {
      "text/plain": [
       "Win     155\n",
       "Lose     90\n",
       "Draw     77\n",
       "Name: label, dtype: int64"
      ]
     },
     "metadata": {},
     "output_type": "display_data"
    },
    {
     "data": {
      "image/png": "[encoded data removed]",
      "text/plain": [
       "<Figure size 720x360 with 1 Axes>"
      ]
     },
     "metadata": {
      "needs_background": "light"
     },
     "output_type": "display_data"
    }
   ],
   "source": [
    "# TODO: Plotear la distribucion de los targets\n",
    "\n",
    "plt.figure(figsize=(10, 5))\n",
    "\n",
    "target_count = target_data.value_counts()\n",
    "display(target_count)\n",
    "my_order = [\"Win\", \"Lose\", \"Draw\"]\n",
    "\n",
    "sns.barplot(target_count.index, target_count.values, order=my_order)\n",
    "plt.title('Distribucion de los Labels en el Dataset')\n",
    "plt.xlabel('Tags')\n",
    "plt.ylabel('Count')\n",
    "plt.show()"
   ]
  },
  {
   "cell_type": "markdown",
   "metadata": {},
   "source": [
    "> Obtenemos el `input_data`"
   ]
  },
  {
   "cell_type": "code",
   "execution_count": 13,
   "metadata": {},
   "outputs": [],
   "source": [
    "input_data = data_df.drop('label', axis=1)"
   ]
  },
  {
   "cell_type": "code",
   "execution_count": 14,
   "metadata": {},
   "outputs": [
    {
     "name": "stdout",
     "output_type": "stream",
     "text": [
      "Shape 'input_data' = (322, 36)\n"
     ]
    },
    {
     "data": {
      "text/html": [
       "<div>\n",
       "<style scoped>\n",
       "    .dataframe tbody tr th:only-of-type {\n",
       "        vertical-align: middle;\n",
       "    }\n",
       "\n",
       "    .dataframe tbody tr th {\n",
       "        vertical-align: top;\n",
       "    }\n",
       "\n",
       "    .dataframe thead th {\n",
       "        text-align: right;\n",
       "    }\n",
       "</style>\n",
       "<table border=\"1\" class=\"dataframe\">\n",
       "  <thead>\n",
       "    <tr style=\"text-align: right;\">\n",
       "      <th></th>\n",
       "      <th>home_team_goals_difference</th>\n",
       "      <th>away_team_goals_difference</th>\n",
       "      <th>games_won_home_team</th>\n",
       "      <th>games_won_away_team</th>\n",
       "      <th>games_against_won</th>\n",
       "      <th>games_against_lost</th>\n",
       "      <th>League_21518</th>\n",
       "      <th>League_24558</th>\n",
       "      <th>home_player_1_overall_rating</th>\n",
       "      <th>home_player_2_overall_rating</th>\n",
       "      <th>...</th>\n",
       "      <th>away_player_8_overall_rating</th>\n",
       "      <th>away_player_9_overall_rating</th>\n",
       "      <th>away_player_10_overall_rating</th>\n",
       "      <th>away_player_11_overall_rating</th>\n",
       "      <th>B365_Win</th>\n",
       "      <th>B365_Draw</th>\n",
       "      <th>B365_Lose</th>\n",
       "      <th>BW_Win</th>\n",
       "      <th>BW_Draw</th>\n",
       "      <th>BW_Lose</th>\n",
       "    </tr>\n",
       "  </thead>\n",
       "  <tbody>\n",
       "    <tr>\n",
       "      <th>0</th>\n",
       "      <td>-5</td>\n",
       "      <td>-8</td>\n",
       "      <td>2</td>\n",
       "      <td>1</td>\n",
       "      <td>0</td>\n",
       "      <td>0</td>\n",
       "      <td>1</td>\n",
       "      <td>0</td>\n",
       "      <td>77.0</td>\n",
       "      <td>69.0</td>\n",
       "      <td>...</td>\n",
       "      <td>72.0</td>\n",
       "      <td>71.0</td>\n",
       "      <td>73.0</td>\n",
       "      <td>73.0</td>\n",
       "      <td>0.395683</td>\n",
       "      <td>0.287770</td>\n",
       "      <td>0.316547</td>\n",
       "      <td>0.389704</td>\n",
       "      <td>0.287782</td>\n",
       "      <td>0.322514</td>\n",
       "    </tr>\n",
       "    <tr>\n",
       "      <th>1</th>\n",
       "      <td>4</td>\n",
       "      <td>-2</td>\n",
       "      <td>4</td>\n",
       "      <td>1</td>\n",
       "      <td>0</td>\n",
       "      <td>0</td>\n",
       "      <td>1</td>\n",
       "      <td>0</td>\n",
       "      <td>76.0</td>\n",
       "      <td>79.0</td>\n",
       "      <td>...</td>\n",
       "      <td>74.0</td>\n",
       "      <td>76.0</td>\n",
       "      <td>71.0</td>\n",
       "      <td>72.0</td>\n",
       "      <td>0.624582</td>\n",
       "      <td>0.238903</td>\n",
       "      <td>0.136516</td>\n",
       "      <td>0.612713</td>\n",
       "      <td>0.253365</td>\n",
       "      <td>0.133922</td>\n",
       "    </tr>\n",
       "    <tr>\n",
       "      <th>2</th>\n",
       "      <td>18</td>\n",
       "      <td>7</td>\n",
       "      <td>6</td>\n",
       "      <td>6</td>\n",
       "      <td>0</td>\n",
       "      <td>0</td>\n",
       "      <td>1</td>\n",
       "      <td>0</td>\n",
       "      <td>81.0</td>\n",
       "      <td>81.0</td>\n",
       "      <td>...</td>\n",
       "      <td>88.0</td>\n",
       "      <td>78.0</td>\n",
       "      <td>90.0</td>\n",
       "      <td>88.0</td>\n",
       "      <td>0.390698</td>\n",
       "      <td>0.260465</td>\n",
       "      <td>0.348837</td>\n",
       "      <td>0.380496</td>\n",
       "      <td>0.279776</td>\n",
       "      <td>0.339728</td>\n",
       "    </tr>\n",
       "    <tr>\n",
       "      <th>3</th>\n",
       "      <td>1</td>\n",
       "      <td>1</td>\n",
       "      <td>2</td>\n",
       "      <td>3</td>\n",
       "      <td>0</td>\n",
       "      <td>0</td>\n",
       "      <td>1</td>\n",
       "      <td>0</td>\n",
       "      <td>79.0</td>\n",
       "      <td>65.0</td>\n",
       "      <td>...</td>\n",
       "      <td>79.0</td>\n",
       "      <td>81.0</td>\n",
       "      <td>81.0</td>\n",
       "      <td>79.0</td>\n",
       "      <td>0.360875</td>\n",
       "      <td>0.287606</td>\n",
       "      <td>0.351519</td>\n",
       "      <td>0.354839</td>\n",
       "      <td>0.290323</td>\n",
       "      <td>0.354839</td>\n",
       "    </tr>\n",
       "    <tr>\n",
       "      <th>4</th>\n",
       "      <td>1</td>\n",
       "      <td>1</td>\n",
       "      <td>3</td>\n",
       "      <td>1</td>\n",
       "      <td>0</td>\n",
       "      <td>0</td>\n",
       "      <td>1</td>\n",
       "      <td>0</td>\n",
       "      <td>74.0</td>\n",
       "      <td>73.0</td>\n",
       "      <td>...</td>\n",
       "      <td>69.0</td>\n",
       "      <td>67.0</td>\n",
       "      <td>76.0</td>\n",
       "      <td>76.0</td>\n",
       "      <td>0.651526</td>\n",
       "      <td>0.223380</td>\n",
       "      <td>0.125093</td>\n",
       "      <td>0.634855</td>\n",
       "      <td>0.224066</td>\n",
       "      <td>0.141079</td>\n",
       "    </tr>\n",
       "  </tbody>\n",
       "</table>\n",
       "<p>5 rows × 36 columns</p>\n",
       "</div>"
      ],
      "text/plain": [
       "   home_team_goals_difference  away_team_goals_difference  \\\n",
       "0                          -5                          -8   \n",
       "1                           4                          -2   \n",
       "2                          18                           7   \n",
       "3                           1                           1   \n",
       "4                           1                           1   \n",
       "\n",
       "   games_won_home_team  games_won_away_team  games_against_won  \\\n",
       "0                    2                    1                  0   \n",
       "1                    4                    1                  0   \n",
       "2                    6                    6                  0   \n",
       "3                    2                    3                  0   \n",
       "4                    3                    1                  0   \n",
       "\n",
       "   games_against_lost  League_21518  League_24558  \\\n",
       "0                   0             1             0   \n",
       "1                   0             1             0   \n",
       "2                   0             1             0   \n",
       "3                   0             1             0   \n",
       "4                   0             1             0   \n",
       "\n",
       "   home_player_1_overall_rating  home_player_2_overall_rating  ...  \\\n",
       "0                          77.0                          69.0  ...   \n",
       "1                          76.0                          79.0  ...   \n",
       "2                          81.0                          81.0  ...   \n",
       "3                          79.0                          65.0  ...   \n",
       "4                          74.0                          73.0  ...   \n",
       "\n",
       "   away_player_8_overall_rating  away_player_9_overall_rating  \\\n",
       "0                          72.0                          71.0   \n",
       "1                          74.0                          76.0   \n",
       "2                          88.0                          78.0   \n",
       "3                          79.0                          81.0   \n",
       "4                          69.0                          67.0   \n",
       "\n",
       "   away_player_10_overall_rating  away_player_11_overall_rating  B365_Win  \\\n",
       "0                           73.0                           73.0  0.395683   \n",
       "1                           71.0                           72.0  0.624582   \n",
       "2                           90.0                           88.0  0.390698   \n",
       "3                           81.0                           79.0  0.360875   \n",
       "4                           76.0                           76.0  0.651526   \n",
       "\n",
       "   B365_Draw  B365_Lose    BW_Win   BW_Draw   BW_Lose  \n",
       "0   0.287770   0.316547  0.389704  0.287782  0.322514  \n",
       "1   0.238903   0.136516  0.612713  0.253365  0.133922  \n",
       "2   0.260465   0.348837  0.380496  0.279776  0.339728  \n",
       "3   0.287606   0.351519  0.354839  0.290323  0.354839  \n",
       "4   0.223380   0.125093  0.634855  0.224066  0.141079  \n",
       "\n",
       "[5 rows x 36 columns]"
      ]
     },
     "metadata": {},
     "output_type": "display_data"
    },
    {
     "name": "stdout",
     "output_type": "stream",
     "text": [
      "==============================\n"
     ]
    },
    {
     "data": {
      "text/plain": [
       "home_team_goals_difference         int64\n",
       "away_team_goals_difference         int64\n",
       "games_won_home_team                int64\n",
       "games_won_away_team                int64\n",
       "games_against_won                  int64\n",
       "games_against_lost                 int64\n",
       "League_21518                       int64\n",
       "League_24558                       int64\n",
       "home_player_1_overall_rating     float64\n",
       "home_player_2_overall_rating     float64\n",
       "home_player_3_overall_rating     float64\n",
       "home_player_4_overall_rating     float64\n",
       "home_player_5_overall_rating     float64\n",
       "home_player_6_overall_rating     float64\n",
       "home_player_7_overall_rating     float64\n",
       "home_player_8_overall_rating     float64\n",
       "home_player_9_overall_rating     float64\n",
       "home_player_10_overall_rating    float64\n",
       "home_player_11_overall_rating    float64\n",
       "away_player_1_overall_rating     float64\n",
       "away_player_2_overall_rating     float64\n",
       "away_player_3_overall_rating     float64\n",
       "away_player_4_overall_rating     float64\n",
       "away_player_5_overall_rating     float64\n",
       "away_player_6_overall_rating     float64\n",
       "away_player_7_overall_rating     float64\n",
       "away_player_8_overall_rating     float64\n",
       "away_player_9_overall_rating     float64\n",
       "away_player_10_overall_rating    float64\n",
       "away_player_11_overall_rating    float64\n",
       "B365_Win                         float64\n",
       "B365_Draw                        float64\n",
       "B365_Lose                        float64\n",
       "BW_Win                           float64\n",
       "BW_Draw                          float64\n",
       "BW_Lose                          float64\n",
       "dtype: object"
      ]
     },
     "metadata": {},
     "output_type": "display_data"
    }
   ],
   "source": [
    "print(\"Shape 'input_data' = {}\".format(input_data.shape))\n",
    "display(input_data.head())\n",
    "print('=' * 30)\n",
    "display(input_data.dtypes)"
   ]
  },
  {
   "cell_type": "markdown",
   "metadata": {},
   "source": [
    "> ### División de datos en conjuntos de Entrenamiento, Validacion y Test\n",
    "\n",
    "La primer tarea consiste en dividir el conjunto de datos cargado en el apartado anterior en conjuntos de Entrenamiento (o _training_), Validacion (_validation_) y evaluación (o _test_).\n",
    "\n",
    "Utilizar aproximadamente 70% de los datos para Entrenamiento, 20% para Validacion y el 10% para Evaluacion.\n",
    "\n",
    "Links:\n",
    "* https://scikit-learn.org/stable/modules/generated/sklearn.model_selection.train_test_split.html"
   ]
  },
  {
   "cell_type": "code",
   "execution_count": 28,
   "metadata": {},
   "outputs": [
    {
     "name": "stdout",
     "output_type": "stream",
     "text": [
      "0.6987577639751553\n",
      "0.6987577639751553\n",
      "0.19875776397515527\n",
      "0.19875776397515527\n",
      "0.10248447204968944\n",
      "0.10248447204968944\n"
     ]
    }
   ],
   "source": [
    "X_train, X_test, y_train, y_test = train_test_split(input_data, target_data, test_size=0.1, random_state=0)\n",
    "X_train, X_val, y_train, y_val = train_test_split(X_train, y_train, test_size=0.22, random_state=0)\n",
    "\n",
    "print(len(X_train)/len(input_data))\n",
    "print(len(y_train)/len(target_data))\n",
    "print(len(X_val)/len(input_data))\n",
    "print(len(y_val)/len(target_data))\n",
    "print(len(X_test)/len(input_data))\n",
    "print(len(y_test)/len(target_data))"
   ]
  },
  {
   "cell_type": "markdown",
   "metadata": {},
   "source": [
    "> ### Distribucion de los labels en los conjuntos de datos generados\n",
    "\n",
    "Mostrar en un grafico, como se distribuyen los labels en los conjuntos de datos generados.\n",
    "\n",
    "**Hint**: Usar graficos de barra (_bar plot_)."
   ]
  },
  {
   "cell_type": "code",
   "execution_count": 41,
   "metadata": {},
   "outputs": [
    {
     "data": {
      "text/plain": [
       "Win     108\n",
       "Draw     60\n",
       "Lose     57\n",
       "Name: label, dtype: int64"
      ]
     },
     "metadata": {},
     "output_type": "display_data"
    },
    {
     "data": {
      "text/plain": [
       "Win     30\n",
       "Lose    23\n",
       "Draw    11\n",
       "Name: label, dtype: int64"
      ]
     },
     "metadata": {},
     "output_type": "display_data"
    },
    {
     "data": {
      "text/plain": [
       "Win     17\n",
       "Lose    10\n",
       "Draw     6\n",
       "Name: label, dtype: int64"
      ]
     },
     "metadata": {},
     "output_type": "display_data"
    },
    {
     "data": {
      "image/png": "[encoded data removed]",
      "text/plain": [
       "<Figure size 1080x360 with 3 Axes>"
      ]
     },
     "metadata": {
      "needs_background": "light"
     },
     "output_type": "display_data"
    }
   ],
   "source": [
    "plt.figure(figsize=(15, 5))\n",
    "my_order = [\"Win\", \"Lose\", \"Draw\"]\n",
    "\n",
    "plt.subplot(1, 3, 1)\n",
    "train_count = y_train.value_counts()\n",
    "display(train_count)\n",
    "sns.barplot(train_count.index, train_count.values, order=my_order)\n",
    "plt.title('Training')\n",
    "plt.xlabel('Tags')\n",
    "plt.ylabel('Count')\n",
    "\n",
    "plt.subplot(1, 3, 2)\n",
    "val_count = y_val.value_counts()\n",
    "display(val_count)\n",
    "sns.barplot(val_count.index, val_count.values, order=my_order)\n",
    "plt.title('Validation')\n",
    "plt.xlabel('Tags')\n",
    "plt.ylabel('Count')\n",
    "\n",
    "plt.subplot(1, 3, 3)\n",
    "test_count = y_test.value_counts()\n",
    "display(test_count)\n",
    "sns.barplot(test_count.index, test_count.values, order=my_order)\n",
    "plt.title('Test')\n",
    "plt.xlabel('Tags')\n",
    "plt.ylabel('Count')\n",
    "\n",
    "\n",
    "plt.show()"
   ]
  },
  {
   "cell_type": "markdown",
   "metadata": {},
   "source": [
    "> ### Modelo Baseline\n",
    "\n",
    "Implementar un modelo Baseline usando, por ejemplo **Logistic Regression** sin ajuste de Hiperparametros.\n",
    "\n",
    "Calcular la accuracy en los conjuntos de entrenamiento y validacion."
   ]
  },
  {
   "cell_type": "code",
   "execution_count": 79,
   "metadata": {},
   "outputs": [
    {
     "name": "stderr",
     "output_type": "stream",
     "text": [
      "/home/gian/anaconda3/lib/python3.7/site-packages/sklearn/preprocessing/data.py:645: DataConversionWarning: Data with input dtype int64, float64 were all converted to float64 by StandardScaler.\n",
      "  return self.partial_fit(X, y)\n",
      "/home/gian/anaconda3/lib/python3.7/site-packages/ipykernel_launcher.py:3: DataConversionWarning: Data with input dtype int64, float64 were all converted to float64 by StandardScaler.\n",
      "  This is separate from the ipykernel package so we can avoid doing imports until\n"
     ]
    }
   ],
   "source": [
    "scaler = StandardScaler()\n",
    "scaler.fit(X_train)\n",
    "scaled_X_train = scaler.transform(X_train)"
   ]
  },
  {
   "cell_type": "code",
   "execution_count": 158,
   "metadata": {},
   "outputs": [
    {
     "name": "stdout",
     "output_type": "stream",
     "text": [
      "Accuracy para entrenamiento: 0.63\n",
      "Accuracy para validación   : 0.46\n"
     ]
    },
    {
     "name": "stderr",
     "output_type": "stream",
     "text": [
      "/home/gian/anaconda3/lib/python3.7/site-packages/sklearn/linear_model/logistic.py:460: FutureWarning: Default multi_class will be changed to 'auto' in 0.22. Specify the multi_class option to silence this warning.\n",
      "  \"this warning.\", FutureWarning)\n",
      "/home/gian/anaconda3/lib/python3.7/site-packages/sklearn/linear_model/logistic.py:1300: UserWarning: 'n_jobs' > 1 does not have any effect when 'solver' is set to 'liblinear'. Got 'n_jobs' = 4.\n",
      "  \" = {}.\".format(effective_n_jobs(self.n_jobs)))\n"
     ]
    }
   ],
   "source": [
    "baseline_log_regr = LogisticRegression(random_state=42, C=1e+4, solver='liblinear', max_iter=100, n_jobs=-1)\n",
    "baseline_log_regr.fit(X_train, y_train)\n",
    "\n",
    "train_baseline_log_regr_prediction = balanced_accuracy_score(y_train, baseline_log_regr.predict(X_train))\n",
    "print(\"Accuracy para entrenamiento: {:.2f}\".format(train_baseline_log_regr_prediction))\n",
    "\n",
    "val_baseline_log_regr_prediction = balanced_accuracy_score(y_val, baseline_log_regr.predict(X_val))\n",
    "print(\"Accuracy para validación   : {:.2f}\".format(val_baseline_log_regr_prediction))"
   ]
  },
  {
   "cell_type": "markdown",
   "metadata": {},
   "source": [
    "> ### Seleccion de Clasificadores\n",
    "\n",
    "Comparar la performance entre clasificadores:\n",
    "* [RandomForestClassifier](https://scikit-learn.org/stable/modules/generated/sklearn.ensemble.RandomForestClassifier.html#sklearn.ensemble.RandomForestClassifier)\n",
    "* [AdaBoostClassifier](https://scikit-learn.org/stable/modules/generated/sklearn.ensemble.AdaBoostClassifier.html)\n",
    "* [KNeighborsClassifier](https://scikit-learn.org/stable/modules/generated/sklearn.neighbors.KNeighborsClassifier.html)\n",
    "* [LogisticRegression](https://scikit-learn.org/stable/modules/generated/sklearn.linear_model.LinearRegression.html)\n",
    "\n",
    "**Hint** para mejores resultados:\n",
    "* Usar [PCA](https://scikit-learn.org/stable/modules/generated/sklearn.decomposition.PCA.html) y [Grid Search](https://scikit-learn.org/stable/modules/generated/sklearn.model_selection.GridSearchCV.html)\n",
    "\n",
    "> **Plotear los resultados en un grafico**"
   ]
  },
  {
   "cell_type": "code",
   "execution_count": 192,
   "metadata": {},
   "outputs": [],
   "source": [
    "test_score_dict = {\n",
    "    \"baseline_logistic_regresion\": {\n",
    "        \"train_score\": train_baseline_log_regr_prediction,\n",
    "        \"val_score\": val_baseline_log_regr_prediction\n",
    "    }\n",
    "}"
   ]
  },
  {
   "cell_type": "code",
   "execution_count": 201,
   "metadata": {},
   "outputs": [
    {
     "name": "stdout",
     "output_type": "stream",
     "text": [
      "shape of X_pca (225, 4)\n",
      "[0.32097746 0.28312434 0.05036438 0.03869774]\n",
      "suma: 0.6931639179979137\n"
     ]
    }
   ],
   "source": [
    "# PCA\n",
    "pca=PCA(n_components=4, svd_solver='full', random_state=4, whiten=True)\n",
    "pca.fit(X_train)\n",
    "X_pca_train=pca.transform(X_train)\n",
    "\n",
    "print(\"shape of X_pca\", X_pca_train.shape)\n",
    "expl = pca.explained_variance_ratio_\n",
    "print(expl)\n",
    "print('suma:',sum(expl[0:4]))\n",
    "\n",
    "pca.fit(X_val)\n",
    "X_pca_val=pca.transform(X_val)\n",
    "\n",
    "pca.fit(X_test)\n",
    "X_pca_test=pca.transform(X_test)"
   ]
  },
  {
   "cell_type": "markdown",
   "metadata": {},
   "source": [
    "> ### 1. Random Forest"
   ]
  },
  {
   "cell_type": "code",
   "execution_count": 215,
   "metadata": {},
   "outputs": [
    {
     "name": "stdout",
     "output_type": "stream",
     "text": [
      "Accuracy para entrenamiento: 0.86\n",
      "Accuracy para validación   : 0.38\n"
     ]
    }
   ],
   "source": [
    "random_forest_param = {'clf__criterion': [\"gini\", \"entropy\"],\n",
    "                  'clf__random_state': [1, 10, 20, 30, 40, 50, 100],\n",
    "                  'clf__min_samples_split': [2, 4, 8], \n",
    "                  'clf__max_features': [\"auto\", \"sqrt\", \"log2\", None]}\n",
    "\n",
    "#['bootstrap', 'class_weight', 'criterion', 'max_depth', 'max_features', 'max_leaf_nodes',\n",
    "#'min_impurity_decrease', 'min_impurity_split', 'min_samples_leaf', 'min_samples_split', \n",
    "#'min_weight_fraction_leaf', 'n_estimators', 'n_jobs', 'oob_score', 'random_state', 'verbose', 'warm_start']\n",
    "\n",
    "random_forest = RandomForestClassifier(n_estimators=10)\n",
    "random_forest_pipeline = Pipeline([('dm_reduce', pca), ('clf', random_forest)])\n",
    "random_forest_clf = GridSearchCV(random_forest_pipeline, random_forest_param, scoring='accuracy', cv=3, iid=False, n_jobs=-1)\n",
    "random_forest_clf.fit(X_train, y_train)\n",
    "best_random_forest_clf = random_forest_clf.best_estimator_\n",
    "\n",
    "train_random_forest_prediction = balanced_accuracy_score(y_train, best_random_forest_clf.predict(X_train))\n",
    "print(\"Accuracy para entrenamiento: {:.2f}\".format(train_random_forest_prediction))\n",
    "\n",
    "val_random_forest_prediction = balanced_accuracy_score(y_val, best_random_forest_clf.predict(X_val))\n",
    "print(\"Accuracy para validación   : {:.2f}\".format(val_random_forest_prediction))\n",
    "\n",
    "test_score_dict[\"random_forest\"] = {\n",
    "    \"train_score\": train_random_forest_prediction,\n",
    "    \"val_score\": val_random_forest_prediction\n",
    "}"
   ]
  },
  {
   "cell_type": "markdown",
   "metadata": {},
   "source": [
    "> ### 2. Ada Boost"
   ]
  },
  {
   "cell_type": "code",
   "execution_count": 214,
   "metadata": {},
   "outputs": [
    {
     "name": "stdout",
     "output_type": "stream",
     "text": [
      "Accuracy para entrenamiento: 0.51\n",
      "Accuracy para validación   : 0.49\n"
     ]
    }
   ],
   "source": [
    "ada_boost_param = {'clf__n_estimators':(10, 50, 100),\n",
    "                   'clf__algorithm': (\"SAMME\", \"SAMME.R\"),\n",
    "                   'clf__random_state':(1, 10, 20, 30, 40, 50, 100)}\n",
    "\n",
    "ada_boost = AdaBoostClassifier()\n",
    "ada_boost_pipeline = Pipeline([('dm_reduce', pca), ('clf', ada_boost)])\n",
    "ada_boost_clf = GridSearchCV(ada_boost_pipeline, ada_boost_param, scoring='accuracy', cv=3, iid=False, n_jobs=-1)\n",
    "ada_boost_clf.fit(X_train, y_train)\n",
    "best_ada_boost_clf = ada_boost_clf.best_estimator_\n",
    "\n",
    "train_ada_boost_prediction = balanced_accuracy_score(y_train, best_ada_boost_clf.predict(X_train))\n",
    "print(\"Accuracy para entrenamiento: {:.2f}\".format(train_ada_boost_prediction))\n",
    "\n",
    "val_ada_boost_prediction = balanced_accuracy_score(y_val, best_ada_boost_clf.predict(X_val))\n",
    "print(\"Accuracy para validación   : {:.2f}\".format(val_ada_boost_prediction))\n",
    "\n",
    "test_score_dict[\"ada_boost\"] = {\n",
    "    \"train_score\": train_ada_boost_prediction,\n",
    "    \"val_score\": val_ada_boost_prediction\n",
    "}"
   ]
  },
  {
   "cell_type": "markdown",
   "metadata": {},
   "source": [
    "> ### 3. K-Neighbors"
   ]
  },
  {
   "cell_type": "code",
   "execution_count": 213,
   "metadata": {},
   "outputs": [
    {
     "name": "stdout",
     "output_type": "stream",
     "text": [
      "Accuracy para entrenamiento: 1.00\n",
      "Accuracy para validación   : 0.40\n"
     ]
    }
   ],
   "source": [
    "knn_param = {'clf__n_neighbors':(3, 4, 5, 6),\n",
    "             'clf__weights':('uniform', 'distance'),\n",
    "             'clf__algorithm':('auto', 'ball_tree', 'kd_tree', 'brute'),\n",
    "             'clf__leaf_size':(15, 30, 60),\n",
    "             'clf__p':(1, 2)}\n",
    "\n",
    "knn = KNeighborsClassifier()\n",
    "knn_pipeline = Pipeline([('dm_reduce', pca), ('clf', knn)])\n",
    "knn_clf = GridSearchCV(knn_pipeline, knn_param, scoring='accuracy', cv=3, iid=False, n_jobs=-1)\n",
    "knn_clf.fit(X_train, y_train)\n",
    "best_knn_clf = knn_clf.best_estimator_\n",
    "\n",
    "train_knn_prediction = balanced_accuracy_score(y_train, best_knn_clf.predict(X_train))\n",
    "print(\"Accuracy para entrenamiento: {:.2f}\".format(train_knn_prediction))\n",
    "\n",
    "val_knn_prediction = balanced_accuracy_score(y_val, best_knn_clf.predict(X_val))\n",
    "print(\"Accuracy para validación   : {:.2f}\".format(val_knn_prediction))\n",
    "\n",
    "test_score_dict[\"knn\"] = {\n",
    "    \"train_score\": train_knn_prediction,\n",
    "    \"val_score\": val_knn_prediction\n",
    "}"
   ]
  },
  {
   "cell_type": "code",
   "execution_count": 270,
   "metadata": {},
   "outputs": [
    {
     "name": "stdout",
     "output_type": "stream",
     "text": [
      "Accuracy para entrenamiento: 0.47\n",
      "Accuracy para validación   : 0.51\n"
     ]
    }
   ],
   "source": [
    "knn25_param = {#'clf__n_neighbors':(3, 4, 5, 6),\n",
    "             'clf__weights':('uniform', 'distance'),\n",
    "             'clf__algorithm':('auto', 'ball_tree', 'kd_tree', 'brute'),\n",
    "             #'clf__leaf_size':(15, 30, 60),\n",
    "             'clf__p':(1, 2)\n",
    "}\n",
    "\n",
    "knn25 = KNeighborsClassifier(n_neighbors=25)\n",
    "knn25_pipeline = Pipeline([('dm_reduce', pca), ('clf', knn25)])\n",
    "knn25_clf = GridSearchCV(knn25_pipeline, knn25_param, scoring='accuracy', cv=3, iid=False, n_jobs=-1)\n",
    "knn25_clf.fit(X_train, y_train)\n",
    "best_knn25_clf = knn25_clf.best_estimator_\n",
    "\n",
    "train_knn25_prediction = balanced_accuracy_score(y_train, best_knn25_clf.predict(X_train))\n",
    "print(\"Accuracy para entrenamiento: {:.2f}\".format(train_knn25_prediction))\n",
    "\n",
    "val_knn25_prediction = balanced_accuracy_score(y_val, best_knn25_clf.predict(X_val))\n",
    "print(\"Accuracy para validación   : {:.2f}\".format(val_knn25_prediction))\n",
    "\n",
    "test_score_dict[\"knn25\"] = {\n",
    "    \"train_score\": train_knn25_prediction,\n",
    "    \"val_score\": val_knn25_prediction\n",
    "}"
   ]
  },
  {
   "cell_type": "markdown",
   "metadata": {},
   "source": [
    "> ### 4. Logistic Regression"
   ]
  },
  {
   "cell_type": "code",
   "execution_count": 212,
   "metadata": {},
   "outputs": [
    {
     "name": "stdout",
     "output_type": "stream",
     "text": [
      "Accuracy para entrenamiento: 0.42\n",
      "Accuracy para validación   : 0.46\n"
     ]
    },
    {
     "name": "stderr",
     "output_type": "stream",
     "text": [
      "/home/gian/anaconda3/lib/python3.7/site-packages/sklearn/linear_model/logistic.py:460: FutureWarning: Default multi_class will be changed to 'auto' in 0.22. Specify the multi_class option to silence this warning.\n",
      "  \"this warning.\", FutureWarning)\n",
      "/home/gian/anaconda3/lib/python3.7/site-packages/sklearn/linear_model/sag.py:334: ConvergenceWarning: The max_iter was reached which means the coef_ did not converge\n",
      "  \"the coef_ did not converge\", ConvergenceWarning)\n",
      "/home/gian/anaconda3/lib/python3.7/site-packages/sklearn/linear_model/sag.py:334: ConvergenceWarning: The max_iter was reached which means the coef_ did not converge\n",
      "  \"the coef_ did not converge\", ConvergenceWarning)\n",
      "/home/gian/anaconda3/lib/python3.7/site-packages/sklearn/linear_model/sag.py:334: ConvergenceWarning: The max_iter was reached which means the coef_ did not converge\n",
      "  \"the coef_ did not converge\", ConvergenceWarning)\n"
     ]
    }
   ],
   "source": [
    "log_regr_param = {'clf__C':(1e+4, 1e+3, 1e+2),\n",
    "                  'clf__solver':('newton-cg', 'lbfgs', 'liblinear', 'sag', 'saga'),\n",
    "                  'clf__max_iter':(5, 20, 100, 1000, 2000),\n",
    "                  'clf__random_state':(1, 10, 20, 30, 40, 50, 100)}\n",
    "\n",
    "log_regr = LogisticRegression()\n",
    "log_regr_pipeline = Pipeline([('dm_reduce', pca), ('clf', log_regr)])\n",
    "log_regr_clf = GridSearchCV(log_regr_pipeline, log_regr_param, scoring='accuracy', cv=3, iid=False, n_jobs=-1)\n",
    "log_regr_clf.fit(X_train, y_train)\n",
    "best_log_regr_clf = log_regr_clf.best_estimator_\n",
    "\n",
    "train_log_regr_prediction = balanced_accuracy_score(y_train, best_log_regr_clf.predict(X_train))\n",
    "print(\"Accuracy para entrenamiento: {:.2f}\".format(train_log_regr_prediction))\n",
    "\n",
    "val_log_regr_prediction = balanced_accuracy_score(y_val, best_log_regr_clf.predict(X_val))\n",
    "print(\"Accuracy para validación   : {:.2f}\".format(val_log_regr_prediction))\n",
    "\n",
    "test_score_dict[\"logistic_regression\"] = {\n",
    "    \"train_score\": train_log_regr_prediction,\n",
    "    \"val_score\": val_log_regr_prediction\n",
    "}"
   ]
  },
  {
   "cell_type": "markdown",
   "metadata": {},
   "source": [
    "> ### Matriz de Confusion\n",
    "\n",
    "Plotear la matriz de confusion del mejor modelo sobre el conjunto de **Test**.\n",
    "\n",
    "**Hint**: Usar la funcion `plot_confusion_matrix` del modulo `utils`."
   ]
  },
  {
   "cell_type": "code",
   "execution_count": 272,
   "metadata": {},
   "outputs": [
    {
     "name": "stdout",
     "output_type": "stream",
     "text": [
      "Confusion matrix, without normalization\n",
      "[[14  0  3]\n",
      " [ 8  2  0]\n",
      " [ 5  1  0]]\n"
     ]
    },
    {
     "data": {
      "text/plain": [
       "<matplotlib.axes._subplots.AxesSubplot at 0x7f3fc4b2dc88>"
      ]
     },
     "execution_count": 272,
     "metadata": {},
     "output_type": "execute_result"
    },
    {
     "data": {
      "image/png": "[encoded data removed]",
      "text/plain": [
       "<Figure size 576x576 with 2 Axes>"
      ]
     },
     "metadata": {
      "needs_background": "light"
     },
     "output_type": "display_data"
    }
   ],
   "source": [
    "plot_confusion_matrix(y_test, best_ada_boost_clf.predict(X_test), my_order, normalize=False)"
   ]
  },
  {
   "cell_type": "markdown",
   "metadata": {},
   "source": [
    "> ### Classification Report\n",
    "\n",
    "Imprimir el `classification_report` y explicar lo que refleja este reporte."
   ]
  },
  {
   "cell_type": "code",
   "execution_count": 271,
   "metadata": {
    "scrolled": true
   },
   "outputs": [
    {
     "name": "stdout",
     "output_type": "stream",
     "text": [
      "{\n",
      "    \"ada_boost\": {\n",
      "        \"train_score\": 0.5080571799870045,\n",
      "        \"val_score\": 0.49139218269653046\n",
      "    },\n",
      "    \"baseline_logistic_regresion\": {\n",
      "        \"train_score\": 0.6287524366471735,\n",
      "        \"val_score\": 0.4567413263065436\n",
      "    },\n",
      "    \"knn\": {\n",
      "        \"train_score\": 1.0,\n",
      "        \"val_score\": 0.4044356609574001\n",
      "    },\n",
      "    \"knn25\": {\n",
      "        \"train_score\": 0.46673164392462635,\n",
      "        \"val_score\": 0.5068511198945981\n",
      "    },\n",
      "    \"logistic_regression\": {\n",
      "        \"train_score\": 0.4197530864197531,\n",
      "        \"val_score\": 0.4628019323671498\n",
      "    },\n",
      "    \"random_forest\": {\n",
      "        \"train_score\": 0.8618583495776478,\n",
      "        \"val_score\": 0.3765480895915679\n",
      "    }\n",
      "}\n"
     ]
    }
   ],
   "source": [
    "import json\n",
    "print(json.dumps(test_score_dict, sort_keys=True, indent=4))"
   ]
  },
  {
   "cell_type": "markdown",
   "metadata": {},
   "source": [
    "El reporte en la seccion anterior es un listado de los clasificadores entrenados. Se muestra el nombre del Clasificador y su \"accuaracy\" obtenido tanto para los Datos de Entrenamiento, asi como para los de Validacion.\n",
    "\n",
    "El objetivo general del reporte es identificar rapidamente que Clasificador puede llegar a dar la mejor performance para los datos de Test; y es aqui que gana importancia tener el score de validacion, porque nos da una mejor de idea de como se va a comportar el clasificador con los datos de test ya que muchas veces nuestro clasificador overfitea los datos de entranamiento y luego se comporta mal en la realidad.\n",
    "\n",
    "Este es el caso del KNN, cuyo score de entrenamiento es 100% pero en el momento que se le cambian los datos de entrada, no solo falla bastante estrepitozamente, sino que ademas aparecen otros clasificadores cuyo train score era menor al 50% que terminan brindado una mejor performance con los mismo datos reales (por ejemplo el Logistic Regression).\n",
    "\n",
    "De todas formas dado facicilidad con la que se pueden comparar clasificadores con este reporte, se pudo indentificar claramente este caso de overfiteo, por lo que se decidio entrenar otro KNN con un numero mayor de vecinos a tener en cuenta, y tras correr un par de preubas manuales, resulto ser 25 el numero de vecinos que maximizaba el Validation Score y terminó siendo el mejor calsificador de todos, como se puede apreciar en el reporte."
   ]
  },
  {
   "cell_type": "markdown",
   "metadata": {},
   "source": [
    "---\n",
    "\n",
    "**Comunicación de Resultados**\n",
    "\n",
    "Se pide que toda esta información no quede plasmada solamente en un Jupyter Notebook, sino que se diagrame una comunicación en formato textual o interactivo (Google Docs, PDF o Markdown por ejemplo).\n",
    "\n",
    "La comunicación debe estar apuntada a un público técnico pero sin conocimiento del tema particular, como por ejemplo, sus compañeros de clase."
   ]
  },
  {
   "cell_type": "markdown",
   "metadata": {},
   "source": [
    "En esta Notebook vamos a entrenar varios clasificadores para determinar el resultado de un partido para el equipo local, es decir, si el equipo local gana (Win), empata (Draw) o pierde (Lose). Los Clasificadores elegidos son:\n",
    "\n",
    "- RandomForestClassifier\n",
    "- AdaBoostClassifier\n",
    "- KNeighborsClassifier\n",
    "- LogisticRegression\n",
    "\n",
    "Para entrenar nuestros modelos se decide dividir nuestro dataset en 3 partes:\n",
    "\n",
    "- Train set (80%)\n",
    "- Validation set (10%)\n",
    "- Test set (10%)\n",
    "\n",
    "Esto último resultó muy util para detectar overfitting antes de llegar a probar el Test set.\n",
    "\n",
    "Al momento se corroborar la performance del modelo con el Test set, se ópto por utilizar una Matriz de confusion.\n",
    "\n",
    "Se seleccion el calsificador ADA Boost por ser ligeramente mas performante que el KNN con 25 vecinos."
   ]
  }
 ],
 "metadata": {
  "kernelspec": {
   "display_name": "Python 3",
   "language": "python",
   "name": "python3"
  },
  "language_info": {
   "codemirror_mode": {
    "name": "ipython",
    "version": 3
   },
   "file_extension": ".py",
   "mimetype": "text/x-python",
   "name": "python",
   "nbconvert_exporter": "python",
   "pygments_lexer": "ipython3",
   "version": "3.7.3"
  }
 },
 "nbformat": 4,
 "nbformat_minor": 4
}
